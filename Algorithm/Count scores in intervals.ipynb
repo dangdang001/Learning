{
 "cells": [
  {
   "cell_type": "code",
   "execution_count": null,
   "metadata": {},
   "outputs": [],
   "source": [
    "scores=[1,1,0,99,88,4,8,7]\n",
    "lower=[2,4]\n",
    "upper=[8,5]"
   ]
  },
  {
   "cell_type": "code",
   "execution_count": null,
   "metadata": {},
   "outputs": [],
   "source": [
    "# Brute force\n",
    "# O(n^2)\n",
    "n=len(lower)\n",
    "res=[0]*n\n",
    "for score in scores:\n",
    "    for i in range(n):\n",
    "        if lower[i]<=score<=upper[i]:\n",
    "            res[i]+=1\n",
    "print(res)"
   ]
  },
  {
   "cell_type": "code",
   "execution_count": null,
   "metadata": {},
   "outputs": [],
   "source": [
    "# Modified\n",
    "min_range,max_range=min(lower),max(upper)\n",
    "scores_new=[score for score in scores if min_range<=score<=max_range]\n",
    "n=len(lower)\n",
    "res=[0]*n\n",
    "for score in scores:\n",
    "    for i in range(n):\n",
    "        if lower[i]<=score<=upper[i]:\n",
    "            res[i]+=1\n",
    "print(res)"
   ]
  },
  {
   "cell_type": "code",
   "execution_count": 2,
   "metadata": {},
   "outputs": [
    {
     "name": "stdout",
     "output_type": "stream",
     "text": [
      "[5, 1]\n"
     ]
    }
   ],
   "source": [
    "# Sort and binary search \n",
    "# O(nlogn)\n",
    "\n",
    "def bs(nums,target,equal=True):    \n",
    "    nums=[float('-inf')]+nums\n",
    "    left,right=0,len(nums)-1\n",
    "    if equal:\n",
    "        while left<=right:\n",
    "            mid=(left+right)//2\n",
    "            if nums[mid]<=target:\n",
    "                left=mid+1\n",
    "            else:\n",
    "                right=mid-1\n",
    "    else:\n",
    "        while left<=right:\n",
    "            mid=(left+right)//2\n",
    "            if nums[mid]<target:\n",
    "                left=mid+1\n",
    "            else:\n",
    "                right=mid-1\n",
    "    return left\n",
    "    #return left if nums[right]>target else right\n",
    "\n",
    "scores.sort()\n",
    "n=len(lower)\n",
    "res=[0]*n\n",
    "for i in range(n):\n",
    "    res[i]=bs(scores,upper[i],equal=True)-bs(scores,lower[i],equal=False)\n",
    "print(res)\n"
   ]
  },
  {
   "cell_type": "code",
   "execution_count": null,
   "metadata": {},
   "outputs": [],
   "source": [
    "scores"
   ]
  },
  {
   "cell_type": "code",
   "execution_count": null,
   "metadata": {},
   "outputs": [],
   "source": []
  }
 ],
 "metadata": {
  "kernelspec": {
   "display_name": "Python 3",
   "language": "python",
   "name": "python3"
  },
  "language_info": {
   "codemirror_mode": {
    "name": "ipython",
    "version": 3
   },
   "file_extension": ".py",
   "mimetype": "text/x-python",
   "name": "python",
   "nbconvert_exporter": "python",
   "pygments_lexer": "ipython3",
   "version": "3.6.4"
  }
 },
 "nbformat": 4,
 "nbformat_minor": 2
}
